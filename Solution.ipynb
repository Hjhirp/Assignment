{
 "cells": [
  {
   "cell_type": "code",
   "execution_count": 2,
   "metadata": {},
   "outputs": [
    {
     "name": "stdout",
     "output_type": "stream",
     "text": [
      "For test case: [0.78, 1.47, 1.77, 3.92]  with identifiers:  ['s_1', 's_2', 'e_1', 'e_2']  the output is:  1\n",
      "For test case: [0.9, 1.3, 1.7, 2.92]  with identifiers:  ['s_1', 'e_1', 's_2', 'e_2']  the output is:  0\n"
     ]
    }
   ],
   "source": [
    "import pandas as pd\n",
    "import numpy as np\n",
    "import matplotlib.pyplot as plt\n",
    "import math\n",
    "\n",
    "\n",
    "def input_to_dict(list_, list2_):\n",
    "    start_end_map_dict = {}\n",
    "    for i in range(len(list_)):\n",
    "        index = int(list2_[i].split('_')[-1])\n",
    "        if index not in start_end_map_dict.keys():\n",
    "            start_end_map_dict[index] = []\n",
    "        start_end_map_dict[index].append(convert_to_x_y(list_[i]))\n",
    "    return start_end_map_dict\n",
    "\n",
    "def convert_to_x_y(radian):\n",
    "    return [math.cos(radian),math.sin(radian)]\n",
    "\n",
    "def slope(x1, y1, x2, y2):\n",
    "    return (y2-y1)/(x2-x1)\n",
    "\n",
    "def intercept(x1, y1, x2, y2):\n",
    "    return y1 - slope(x1, y1, x2, y2)*x1\n",
    "\n",
    "def intersection(x1, y1, x2, y2, x3, y3, x4, y4):\n",
    "    if slope(x1, y1, x2, y2) == slope(x3, y3, x4, y4):\n",
    "        return None\n",
    "    x = (intercept(x3, y3, x4, y4) - intercept(x1, y1, x2, y2))/(slope(x1, y1, x2, y2) - slope(x3, y3, x4, y4))\n",
    "    y = slope(x1, y1, x2, y2)*x + intercept(x1, y1, x2, y2)\n",
    "    #find distance from (0,0)\n",
    "    dist = math.sqrt(x**2 + y**2)\n",
    "    if dist > 1:\n",
    "        return 0\n",
    "    else:\n",
    "        return 1\n",
    "    \n",
    "def find_intersection(comb, start_end_map_dict):\n",
    "    count = 0\n",
    "    for i in comb:\n",
    "        line_1 = start_end_map_dict[i[0]]\n",
    "        line_2 = start_end_map_dict[i[1]]\n",
    "        x1, y1 = line_1[0]\n",
    "        x2, y2 = line_1[1]\n",
    "        x3, y3 = line_2[0]\n",
    "        x4, y4 = line_2[1]\n",
    "        count += intersection(x1, y1, x2, y2, x3, y3, x4, y4)\n",
    "    return count\n",
    "\n",
    "def comb(n):\n",
    "    comb_1 = []\n",
    "    for i in range(1,n+1):\n",
    "        for j in range(i+1, n+1):\n",
    "            comb_1.append([i,j])\n",
    "\n",
    "    return comb_1\n",
    "\n",
    "def result(input, identifiers):\n",
    "    start_end_map_dict = input_to_dict(input, identifiers)\n",
    "    max_number_of_lines = len(start_end_map_dict.keys())\n",
    "    comb_1 = comb(max_number_of_lines)\n",
    "    print(\"For test case:\", input, \" with identifiers: \", identifiers , \" the output is: \", find_intersection(comb_1, start_end_map_dict))\n",
    "    \n",
    "def main():\n",
    "    # input = [1,1.5, 1.3, 1.6, 0.75, 1]\n",
    "    # identifiers = ['s_1','s_2','s_3','e_1','e_2','e_3']\n",
    "    input_1 = [0.78, 1.47, 1.77, 3.92]\n",
    "    input_2 = [0.9, 1.3, 1.7, 2.92]\n",
    "    identifiers_1 = ['s_1', 's_2', 'e_1', 'e_2']\n",
    "    identifiers_2 = ['s_1', 'e_1', 's_2', 'e_2']\n",
    "    # result(input, identifiers)\n",
    "    result(input_1, identifiers_1)\n",
    "    result(input_2, identifiers_2)\n",
    "\n",
    "    \n",
    "\n",
    "main()\n"
   ]
  },
  {
   "cell_type": "code",
   "execution_count": null,
   "metadata": {},
   "outputs": [],
   "source": []
  }
 ],
 "metadata": {
  "kernelspec": {
   "display_name": "Python 3",
   "language": "python",
   "name": "python3"
  },
  "language_info": {
   "codemirror_mode": {
    "name": "ipython",
    "version": 3
   },
   "file_extension": ".py",
   "mimetype": "text/x-python",
   "name": "python",
   "nbconvert_exporter": "python",
   "pygments_lexer": "ipython3",
   "version": "3.11.8"
  }
 },
 "nbformat": 4,
 "nbformat_minor": 2
}
